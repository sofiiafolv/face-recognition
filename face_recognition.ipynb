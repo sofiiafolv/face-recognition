{
 "cells": [
  {
   "cell_type": "code",
   "execution_count": 84,
   "metadata": {},
   "outputs": [
    {
     "name": "stdout",
     "output_type": "stream",
     "text": [
      "[[ 80. 107.  89. ...  55.  71.  16.]\n",
      " [ 80. 101.  92. ...  60.  72.  22.]\n",
      " [ 84. 100.  93. ...  62.  72.  29.]\n",
      " ...\n",
      " [ 12.  48.  17. ...  10.  34.  13.]\n",
      " [ 12.  36.  23. ...   3.  33.   9.]\n",
      " [ 11.  24.  20. ...   6.  32.   8.]]\n"
     ]
    }
   ],
   "source": [
    "import matplotlib.pyplot as plt\n",
    "import numpy as np\n",
    "import os\n",
    "\n",
    "def get_column_from_pgm(photo_path):\n",
    "    with open(photo_path, 'rb') as pgmf:\n",
    "        im = plt.imread(pgmf)\n",
    "    face_column = np.ndarray.flatten(im)\n",
    "    return np.reshape(face_column, (-1, 1))\n",
    "\n",
    "def get_faces_matrix(dir_with_faces):\n",
    "    files = os.listdir(dir_with_faces)\n",
    "    result = np.zeros(192*168)\n",
    "    for filename in files:\n",
    "        original_photo_path = os.path.join(dir_with_faces, filename)\n",
    "        face_column = get_column_from_pgm(original_photo_path)\n",
    "        result = np.column_stack((result, face_column))\n",
    "    return result[:, 1:]\n",
    "training_faces = get_faces_matrix('./training_faces')\n",
    "print(training_faces)"
   ]
  },
  {
   "cell_type": "code",
   "execution_count": 85,
   "metadata": {},
   "outputs": [],
   "source": [
    "average_face = np.mean(training_faces,axis=1)\n",
    "normalized_faces = training_faces - np.tile(average_face,(training_faces.shape[1],1)).T"
   ]
  },
  {
   "cell_type": "code",
   "execution_count": 86,
   "metadata": {},
   "outputs": [],
   "source": [
    "def simultaneous_power_iteration(A, k):\n",
    "    n, m = A.shape\n",
    "    Q = np.random.rand(n, k)\n",
    "    Q, _ = np.linalg.qr(Q)\n",
    "    Q_prev = Q\n",
    "    for i in range(1000):\n",
    "        Z = A.dot(Q)\n",
    "        Q, R = np.linalg.qr(Z)\n",
    "        err = ((Q - Q_prev) ** 2).sum()\n",
    "        Q_prev = Q\n",
    "        if err < 1e-3:\n",
    "            break\n",
    "    return np.diag(R), Q "
   ]
  },
  {
   "cell_type": "code",
   "execution_count": 101,
   "metadata": {},
   "outputs": [],
   "source": [
    "def reduced_svd_using_qr(A):\n",
    "    eigenvalues, V = simultaneous_power_iteration(A.T @ A, 800)\n",
    "    sigma = np.sqrt(eigenvalues)\n",
    "    idx = np.argsort(eigenvalues)[::-1]  \n",
    "    sigma = sigma[idx] \n",
    "    rank_of_A = np.linalg.matrix_rank(A)\n",
    "    V = V[:,idx]\n",
    "    sigma = sigma[:rank_of_A]\n",
    "    V = V[:, :rank_of_A]\n",
    "    U = (A @ V) @ np.linalg.inv(np.diag(sigma))\n",
    "    return U, sigma, V.T"
   ]
  },
  {
   "cell_type": "code",
   "execution_count": 94,
   "metadata": {},
   "outputs": [],
   "source": [
    "def reduced_svd(A):\n",
    "  '''\n",
    "  Input: any matrix A\n",
    "  Returns: tuple of matrix U, array of singular values and matrix V.T \n",
    "  '''\n",
    "  # your code here\n",
    "  rank_of_A = np.linalg.matrix_rank(A)\n",
    "\n",
    "  symmetric_matrix_V = A.T @ A\n",
    "\n",
    "  eigenvalues_V, eigenvectors_V = np.linalg.eigh(symmetric_matrix_V)\n",
    "  eigenvalues_V[eigenvalues_V < 0] = 0\n",
    "\n",
    "  idx = np.argsort(eigenvalues_V)[::-1]   \n",
    "  V = eigenvectors_V[:,idx]\n",
    "  V = V[:,:rank_of_A]\n",
    "  \n",
    "  sigma = np.sort(np.sqrt(eigenvalues_V))[::-1]\n",
    "  sigma = sigma[:rank_of_A]\n",
    "  U = (A @ V) @ np.linalg.inv(np.diag(sigma))\n",
    "  return U, sigma, V.T\n",
    "\n",
    "\n",
    "def k_rank_approximation(U, sigma, VT, k):\n",
    "  return U[:,:k], sigma[:k], VT[:k,:]"
   ]
  },
  {
   "cell_type": "code",
   "execution_count": 99,
   "metadata": {},
   "outputs": [
    {
     "name": "stdout",
     "output_type": "stream",
     "text": [
      "[[ 0.00343457  0.00304175  0.00398152 ...  0.00601772  0.00469893\n",
      "  -0.00053817]\n",
      " [ 0.00329048  0.00371018  0.00411167 ...  0.00624599  0.00545016\n",
      "   0.00132812]\n",
      " [ 0.00337204  0.00384763  0.00434172 ...  0.00646004  0.00551874\n",
      "   0.00052141]\n",
      " ...\n",
      " [ 0.00501834 -0.01014168  0.00013672 ... -0.0112793   0.00519923\n",
      "  -0.01621109]\n",
      " [ 0.00484095 -0.01052149  0.0006658  ... -0.01220265  0.00607102\n",
      "  -0.01777604]\n",
      " [ 0.00442375 -0.01067183  0.00096258 ... -0.01192644  0.00453978\n",
      "  -0.01721329]]\n",
      "(37,)\n",
      "[[ 0.05182931  0.25187842 -0.04966201 ... -0.13226594 -0.16269672\n",
      "  -0.14960111]\n",
      " [ 0.10495275  0.19155023  0.17096491 ...  0.08717483  0.06530061\n",
      "   0.22152499]\n",
      " [-0.03183729  0.28492724  0.1956708  ... -0.12593036  0.15419072\n",
      "  -0.03947824]\n",
      " ...\n",
      " [-0.18068118 -0.05352285  0.1047802  ...  0.04223412 -0.00611732\n",
      "   0.08914696]\n",
      " [-0.08510075 -0.09979134 -0.035749   ... -0.41678238  0.16426887\n",
      "  -0.19922508]\n",
      " [ 0.13525504 -0.06355251  0.05162284 ...  0.61310042  0.02880938\n",
      "  -0.08481034]]\n"
     ]
    }
   ],
   "source": [
    "U, sigma, VT = reduced_svd(normalized_faces)\n",
    "sigma_VT = np.diag(sigma) @ VT"
   ]
  },
  {
   "cell_type": "code",
   "execution_count": 103,
   "metadata": {},
   "outputs": [
    {
     "name": "stdout",
     "output_type": "stream",
     "text": [
      "[[-0.00343457 -0.00304176 -0.00349351 ... -0.00813654 -0.00296895\n",
      "  -0.00053817]\n",
      " [-0.00329048 -0.00371018 -0.00364698 ... -0.00835741 -0.00373259\n",
      "   0.00132812]\n",
      " [-0.00337204 -0.00384764 -0.00387902 ... -0.00875669 -0.00368064\n",
      "   0.00052141]\n",
      " ...\n",
      " [-0.00501834  0.01014168 -0.00041222 ...  0.00780805 -0.00573952\n",
      "  -0.01621109]\n",
      " [-0.00484095  0.01052149 -0.00097106 ...  0.00860099 -0.00675736\n",
      "  -0.01777604]\n",
      " [-0.00442375  0.01067183 -0.00126172 ...  0.00908682 -0.00545058\n",
      "  -0.01721329]]\n",
      "[22741.95996108 10411.59604499  9583.18645704  9231.89963857\n",
      "  7817.51009449  6905.75596229  6174.95935432  6081.90064304\n",
      "  5411.69685931  4972.37954976  4819.06009839  4583.83591367\n",
      "  4550.09325724  3988.58591418  3959.36881042  3741.45887411\n",
      "  3704.05150876  3544.30304826  3490.56350413  3434.37581909\n",
      "  3174.04900535  3134.29465067  3071.00155407  2995.25237742\n",
      "  2829.75787357  2749.48077663  2703.11686316  2664.58960005\n",
      "  2533.63742562  2469.07318822  2394.13266619  2332.18552998\n",
      "  2246.70679465  2100.80413828  2083.697642    2063.89686038\n",
      "  1851.01087078]\n",
      "[[-0.05182931 -0.25187842  0.04966201 ...  0.13226594  0.16269672\n",
      "   0.14960111]\n",
      " [-0.10495271 -0.19155061 -0.17096517 ... -0.08717467 -0.06530082\n",
      "  -0.22152494]\n",
      " [ 0.03302778 -0.2880505  -0.19567834 ...  0.13390653 -0.15185263\n",
      "   0.04073798]\n",
      " ...\n",
      " [ 0.20300114  0.02601866 -0.12251206 ...  0.04901728  0.03749043\n",
      "  -0.05702206]\n",
      " [ 0.04996853  0.1103332   0.06377008 ...  0.40659918 -0.19057913\n",
      "   0.21123108]\n",
      " [ 0.13525504 -0.06355251  0.05162284 ...  0.61310042  0.02880938\n",
      "  -0.08481033]]\n"
     ]
    },
    {
     "name": "stderr",
     "output_type": "stream",
     "text": [
      "C:\\Users\\sysadmin\\AppData\\Local\\Temp\\ipykernel_19788\\810654855.py:3: RuntimeWarning: invalid value encountered in sqrt\n",
      "  sigma = np.sqrt(eigenvalues)\n"
     ]
    }
   ],
   "source": [
    "U_qr, sigma_qr, VT_qr = reduced_svd_using_qr(normalized_faces)"
   ]
  },
  {
   "cell_type": "code",
   "execution_count": 72,
   "metadata": {},
   "outputs": [],
   "source": [
    "U_k, sigma_k, VT_k = k_rank_approximation(U, sigma, VT, 1600)"
   ]
  },
  {
   "cell_type": "code",
   "execution_count": 73,
   "metadata": {},
   "outputs": [],
   "source": [
    "test_face = training_faces[:,0] - average_face\n",
    "projected_face_coord = U.T @ test_face"
   ]
  },
  {
   "cell_type": "code",
   "execution_count": 75,
   "metadata": {},
   "outputs": [
    {
     "name": "stdout",
     "output_type": "stream",
     "text": [
      "3.2098944125720547e-11\n",
      "13589.708458977348\n",
      "13351.333716149871\n",
      "15119.967757902148\n",
      "16120.32862568256\n"
     ]
    }
   ],
   "source": [
    "for i in range(5):\n",
    "    print(np.linalg.norm(projected_face_coord - sigma_VT[:, i]))"
   ]
  }
 ],
 "metadata": {
  "kernelspec": {
   "display_name": "Python 3",
   "language": "python",
   "name": "python3"
  },
  "language_info": {
   "codemirror_mode": {
    "name": "ipython",
    "version": 3
   },
   "file_extension": ".py",
   "mimetype": "text/x-python",
   "name": "python",
   "nbconvert_exporter": "python",
   "pygments_lexer": "ipython3",
   "version": "3.8.5"
  },
  "orig_nbformat": 4
 },
 "nbformat": 4,
 "nbformat_minor": 2
}
