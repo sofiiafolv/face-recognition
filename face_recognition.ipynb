{
 "cells": [
  {
   "cell_type": "code",
   "execution_count": 17,
   "metadata": {},
   "outputs": [],
   "source": [
    "import matplotlib.pyplot as plt\n",
    "import numpy as np\n",
    "import os\n",
    "import scipy.io\n",
    "mat_contents = scipy.io.loadmat(os.path.join('.','allFaces.mat'))\n",
    "faces = mat_contents['faces']\n",
    "m = int(mat_contents['m'])\n",
    "n = int(mat_contents['n'])\n",
    "nfaces = np.ndarray.flatten(mat_contents['nfaces'])\n",
    "training_faces = faces[:,:np.sum(nfaces[:36])]"
   ]
  },
  {
   "cell_type": "code",
   "execution_count": 18,
   "metadata": {},
   "outputs": [],
   "source": [
    "average_face = np.mean(training_faces,axis=1)\n",
    "normalized_faces = training_faces - np.tile(average_face,(faces.shape[1],1)).T"
   ]
  },
  {
   "cell_type": "code",
   "execution_count": 20,
   "metadata": {},
   "outputs": [
    {
     "name": "stdout",
     "output_type": "stream",
     "text": [
      "(32256, 2281)\n",
      "(2281,)\n",
      "(2281, 2282)\n"
     ]
    }
   ],
   "source": [
    "def reduced_svd(A):\n",
    "  '''\n",
    "  Input: any matrix A\n",
    "  Returns: tuple of matrix U, array of singular values and matrix V.T \n",
    "  '''\n",
    "  # your code here\n",
    "  rank_of_A = np.linalg.matrix_rank(A)\n",
    "\n",
    "  symmetric_matrix_V = A.T @ A\n",
    "\n",
    "  eigenvalues_V, eigenvectors_V = np.linalg.eigh(symmetric_matrix_V)\n",
    "  eigenvalues_V[eigenvalues_V < 0] = 0\n",
    "\n",
    "  idx = np.argsort(eigenvalues_V)[::-1]   \n",
    "  V = eigenvectors_V[:,idx]\n",
    "  V = V[:,:rank_of_A]\n",
    "  \n",
    "  sigma = np.sort(np.sqrt(eigenvalues_V))[::-1]\n",
    "  sigma = sigma[:rank_of_A]\n",
    "  U = (A @ V) @ np.linalg.inv(np.diag(sigma))\n",
    "  return U, sigma, V.T\n",
    "\n",
    "U, sigma, VT = reduced_svd(normalized_faces)\n",
    "print(U.shape)\n",
    "print(sigma.shape)\n",
    "print(VT.shape)"
   ]
  },
  {
   "cell_type": "code",
   "execution_count": 21,
   "metadata": {},
   "outputs": [
    {
     "ename": "NameError",
     "evalue": "name 'avgFace' is not defined",
     "output_type": "error",
     "traceback": [
      "\u001b[1;31m---------------------------------------------------------------------------\u001b[0m",
      "\u001b[1;31mNameError\u001b[0m                                 Traceback (most recent call last)",
      "\u001b[1;32md:\\UCU\\Year2_Term2\\LA\\project\\face_recognition.ipynb Cell 4\u001b[0m in \u001b[0;36m<module>\u001b[1;34m\u001b[0m\n\u001b[0;32m      <a href='vscode-notebook-cell:/d%3A/UCU/Year2_Term2/LA/project/face_recognition.ipynb#W3sZmlsZQ%3D%3D?line=0'>1</a>\u001b[0m fig1 \u001b[39m=\u001b[39m plt\u001b[39m.\u001b[39mfigure()\n\u001b[0;32m      <a href='vscode-notebook-cell:/d%3A/UCU/Year2_Term2/LA/project/face_recognition.ipynb#W3sZmlsZQ%3D%3D?line=1'>2</a>\u001b[0m ax1 \u001b[39m=\u001b[39m fig1\u001b[39m.\u001b[39madd_subplot(\u001b[39m121\u001b[39m)\n\u001b[1;32m----> <a href='vscode-notebook-cell:/d%3A/UCU/Year2_Term2/LA/project/face_recognition.ipynb#W3sZmlsZQ%3D%3D?line=2'>3</a>\u001b[0m img_avg \u001b[39m=\u001b[39m ax1\u001b[39m.\u001b[39mimshow(np\u001b[39m.\u001b[39mreshape(avgFace,(m,n))\u001b[39m.\u001b[39mT)\n\u001b[0;32m      <a href='vscode-notebook-cell:/d%3A/UCU/Year2_Term2/LA/project/face_recognition.ipynb#W3sZmlsZQ%3D%3D?line=3'>4</a>\u001b[0m img_avg\u001b[39m.\u001b[39mset_cmap(\u001b[39m'\u001b[39m\u001b[39mgray\u001b[39m\u001b[39m'\u001b[39m)\n\u001b[0;32m      <a href='vscode-notebook-cell:/d%3A/UCU/Year2_Term2/LA/project/face_recognition.ipynb#W3sZmlsZQ%3D%3D?line=4'>5</a>\u001b[0m plt\u001b[39m.\u001b[39maxis(\u001b[39m'\u001b[39m\u001b[39moff\u001b[39m\u001b[39m'\u001b[39m)\n",
      "\u001b[1;31mNameError\u001b[0m: name 'avgFace' is not defined"
     ]
    },
    {
     "data": {
      "image/png": "[encoded data removed]",
      "text/plain": [
       "<Figure size 432x288 with 1 Axes>"
      ]
     },
     "metadata": {
      "needs_background": "light"
     },
     "output_type": "display_data"
    }
   ],
   "source": [
    "\n",
    "fig1 = plt.figure()\n",
    "ax1 = fig1.add_subplot(121)\n",
    "img_avg = ax1.imshow(np.reshape(averageace,(m,n)).T)\n",
    "img_avg.set_cmap('gray')\n",
    "plt.axis('off')\n",
    "\n",
    "ax2 = fig1.add_subplot(122)\n",
    "img_u1 = ax2.imshow(np.reshape(U[:,0],(m,n)).T)\n",
    "img_u1.set_cmap('gray')\n",
    "plt.axis('off')\n",
    "\n",
    "plt.show()"
   ]
  }
 ],
 "metadata": {
  "kernelspec": {
   "display_name": "Python 3",
   "language": "python",
   "name": "python3"
  },
  "language_info": {
   "codemirror_mode": {
    "name": "ipython",
    "version": 3
   },
   "file_extension": ".py",
   "mimetype": "text/x-python",
   "name": "python",
   "nbconvert_exporter": "python",
   "pygments_lexer": "ipython3",
   "version": "3.9.13"
  },
  "orig_nbformat": 4
 },
 "nbformat": 4,
 "nbformat_minor": 2
}
