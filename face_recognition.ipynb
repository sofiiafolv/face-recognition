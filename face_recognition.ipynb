{
 "cells": [
  {
   "cell_type": "code",
   "execution_count": 5,
   "metadata": {},
   "outputs": [],
   "source": [
    "import matplotlib.pyplot as plt\n",
    "import numpy as np\n",
    "import os\n",
    "import scipy.io\n",
    "mat_contents = scipy.io.loadmat(os.path.join('.','allFaces.mat'))\n",
    "faces = mat_contents['faces']\n",
    "m = int(mat_contents['m'])\n",
    "n = int(mat_contents['n'])\n",
    "nfaces = np.ndarray.flatten(mat_contents['nfaces'])\n",
    "training_faces = faces[:,:np.sum(nfaces[:36])]"
   ]
  },
  {
   "cell_type": "code",
   "execution_count": 7,
   "metadata": {},
   "outputs": [],
   "source": [
    "average_face = np.mean(training_faces,axis=1)\n",
    "normalized_faces = training_faces - np.tile(average_face,(training_faces.shape[1],1)).T"
   ]
  },
  {
   "cell_type": "code",
   "execution_count": 8,
   "metadata": {},
   "outputs": [],
   "source": [
    "def reduced_svd(A):\n",
    "  '''\n",
    "  Input: any matrix A\n",
    "  Returns: tuple of matrix U, array of singular values and matrix V.T \n",
    "  '''\n",
    "  # your code here\n",
    "  rank_of_A = np.linalg.matrix_rank(A)\n",
    "\n",
    "  symmetric_matrix_V = A.T @ A\n",
    "\n",
    "  eigenvalues_V, eigenvectors_V = np.linalg.eigh(symmetric_matrix_V)\n",
    "  eigenvalues_V[eigenvalues_V < 0] = 0\n",
    "\n",
    "  idx = np.argsort(eigenvalues_V)[::-1]   \n",
    "  V = eigenvectors_V[:,idx]\n",
    "  V = V[:,:rank_of_A]\n",
    "  \n",
    "  sigma = np.sort(np.sqrt(eigenvalues_V))[::-1]\n",
    "  sigma = sigma[:rank_of_A]\n",
    "  U = (A @ V) @ np.linalg.inv(np.diag(sigma))\n",
    "  return U, sigma, V.T\n",
    "\n",
    "U, sigma, VT = reduced_svd(normalized_faces)"
   ]
  },
  {
   "cell_type": "code",
   "execution_count": 10,
   "metadata": {},
   "outputs": [],
   "source": [
    "test_face = training_faces[:, 0] - average_face\n",
    "projected_face = average_face + U @ U.T @ test_face"
   ]
  },
  {
   "cell_type": "code",
   "execution_count": null,
   "metadata": {},
   "outputs": [],
   "source": [
    "for i in range(5):\n",
    "    print(np.linalg.norm(projected_face - (average_face + U @ U.T @ normalized_faces[:, i])))"
   ]
  }
 ],
 "metadata": {
  "kernelspec": {
   "display_name": "Python 3",
   "language": "python",
   "name": "python3"
  },
  "language_info": {
   "codemirror_mode": {
    "name": "ipython",
    "version": 3
   },
   "file_extension": ".py",
   "mimetype": "text/x-python",
   "name": "python",
   "nbconvert_exporter": "python",
   "pygments_lexer": "ipython3",
   "version": "3.9.13"
  },
  "orig_nbformat": 4
 },
 "nbformat": 4,
 "nbformat_minor": 2
}
